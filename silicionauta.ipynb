{
  "cells": [
    {
      "cell_type": "markdown",
      "metadata": {
        "id": "view-in-github",
        "colab_type": "text"
      },
      "source": [
        "<a href=\"https://colab.research.google.com/github/Martoto/BigData_ForecastHackathon/blob/main/silicionauta.ipynb\" target=\"_parent\"><img src=\"https://colab.research.google.com/assets/colab-badge.svg\" alt=\"Open In Colab\"/></a>"
      ]
    },
    {
      "cell_type": "markdown",
      "id": "5cbfde9a",
      "metadata": {
        "id": "5cbfde9a"
      },
      "source": []
    },
    {
      "cell_type": "code",
      "metadata": {
        "id": "13da2d6c",
        "outputId": "817e4941-beea-44e1-feb1-d9ef4b53a41b",
        "colab": {
          "base_uri": "https://localhost:8080/"
        }
      },
      "source": [
        "import os\n",
        "import requests\n",
        "\n",
        "file_path = '/content/hackathon_2025_templates.zip'\n",
        "file_id = '1Ed-nqUyCT0z-T0AvHwLMsGqHYqjw2248' # This is the file ID\n",
        "\n",
        "if not os.path.exists(file_path):\n",
        "    print(f'{file_path} not found. Downloading...')\n",
        "\n",
        "    # Construct the direct download URL\n",
        "    download_url = f'https://drive.google.com/uc?export=download&id={file_id}'\n",
        "\n",
        "    try:\n",
        "        response = requests.get(download_url, stream=True)\n",
        "        response.raise_for_status() # Raise an exception for bad status codes\n",
        "\n",
        "        with open(file_path, 'wb') as f:\n",
        "            for chunk in response.iter_content(chunk_size=8192):\n",
        "                f.write(chunk)\n",
        "\n",
        "        print(f'{file_path} downloaded successfully.')\n",
        "\n",
        "    except requests.exceptions.RequestException as e:\n",
        "        print(f\"Error downloading the file: {e}\")\n",
        "        print(\"Please ensure the file is shared publicly or with 'Anyone with the link'.\")\n",
        "\n",
        "else:\n",
        "    print(f'{file_path} found.')"
      ],
      "id": "13da2d6c",
      "execution_count": 1,
      "outputs": [
        {
          "output_type": "stream",
          "name": "stdout",
          "text": [
            "/content/hackathon_2025_templates.zip found.\n"
          ]
        }
      ]
    }
  ],
  "metadata": {
    "language_info": {
      "name": "python"
    },
    "colab": {
      "provenance": [],
      "include_colab_link": true
    },
    "kernelspec": {
      "name": "python3",
      "display_name": "Python 3"
    }
  },
  "nbformat": 4,
  "nbformat_minor": 5
}